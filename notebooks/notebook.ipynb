{
 "cells": [
  {
   "cell_type": "code",
   "execution_count": 31,
   "metadata": {},
   "outputs": [],
   "source": [
    "import pandas as pd\n",
    "import requests\n",
    "import os\n",
    "from dotenv import load_dotenv\n",
    "\n",
    "load_dotenv('.venv/.env')\n",
    "\n",
    "API_KEY = os.getenv('OPENAQ_API_KEY')\n",
    "\n",
    "BASE_URL = 'https://api.openaq.org/v3'\n",
    "HEADERS = {\n",
    "    'X-API-Key': API_KEY,\n",
    "    'Accept': \"application/json\"\n",
    "}"
   ]
  },
  {
   "cell_type": "code",
   "execution_count": 32,
   "metadata": {},
   "outputs": [],
   "source": [
    "def get_measurements(sensor_id):\n",
    "    url = f\"{BASE_URL}/sensors/{sensor_id}/measurements/daily\"\n",
    "    response = requests.get(url, headers=HEADERS)\n",
    "    return response.json()\n",
    "\n",
    "def get_countries():\n",
    "    url = f\"{BASE_URL}/countries\"\n",
    "    response = requests.get(url, headers=HEADERS)\n",
    "    return response.json()\n",
    "\n",
    "def get_locations():\n",
    "    url = f\"{BASE_URL}/locations\"\n",
    "    response = requests.get(url, headers=HEADERS)\n",
    "    return response.json()\n",
    "\n",
    "locations = get_locations()\n",
    "countries = get_countries()"
   ]
  },
  {
   "cell_type": "code",
   "execution_count": 33,
   "metadata": {},
   "outputs": [],
   "source": [
    "sensor_list_by_countries = []\n",
    "def filter_sensors_location():\n",
    "    for item in locations.get('results', []):\n",
    "        country_name = item.get('country', {}).get('name')\n",
    "        for sensor in item.get('sensors', []):\n",
    "            sensor_list_by_countries.append({\n",
    "                'country': country_name,\n",
    "                'sensor_id': sensor.get('id'),\n",
    "                'sensor_name': sensor.get('name')\n",
    "            })\n",
    "    return sensor_list_by_countries\n",
    "\n",
    "sensor_list_by_countries = filter_sensors_location()\n",
    "df_sensors_by_countries = pd.DataFrame(sensor_list_by_countries)"
   ]
  },
  {
   "cell_type": "code",
   "execution_count": 34,
   "metadata": {},
   "outputs": [
    {
     "name": "stdout",
     "output_type": "stream",
     "text": [
      "Empty DataFrame\n",
      "Columns: []\n",
      "Index: []\n"
     ]
    }
   ],
   "source": [
    "print(df_sensors_by_countries)"
   ]
  },
  {
   "cell_type": "code",
   "execution_count": null,
   "metadata": {},
   "outputs": [],
   "source": [
    "path = '/Users/jonatasgama/Desktop/air_quality_pipeline/data/raw/sensors_by_countries.csv'\n",
    "df_path = pd.read_csv(path)\n",
    "print(df_path.columns.tolist())"
   ]
  },
  {
   "cell_type": "code",
   "execution_count": null,
   "metadata": {},
   "outputs": [],
   "source": [
    "values_by_sensor = []\n",
    "def filter_values_by_sensor():\n",
    "    path = '/Users/jonatasgama/Desktop/air_quality_pipeline/data/raw/sensors_by_countries.csv'\n",
    "    df_path = pd.read_csv(path)\n",
    "    for sensor_id in df_path['sensor_id']:\n",
    "        measurements = get_measurements(sensor_id)\n",
    "        for measurement in measurements.get('results', []):\n",
    "            value = measurement.get('value')\n",
    "            parameter_id = measurement.get('parameter').get('id')\n",
    "            values_by_sensor.append({\n",
    "                'sensor_id': df_path['sensor_id'],\n",
    "                'parameter_id': parameter_id,\n",
    "                'value': value\n",
    "            })\n",
    "\n",
    "    return values_by_sensor\n",
    "    \n",
    "values_by_sensor = filter_values_by_sensor()\n",
    "df_values_by_sensor = pd.DataFrame(values_by_sensor)"
   ]
  },
  {
   "cell_type": "code",
   "execution_count": null,
   "metadata": {},
   "outputs": [],
   "source": [
    "df_values_by_sensor.head()"
   ]
  }
 ],
 "metadata": {
  "kernelspec": {
   "display_name": ".venv",
   "language": "python",
   "name": "python3"
  },
  "language_info": {
   "codemirror_mode": {
    "name": "ipython",
    "version": 3
   },
   "file_extension": ".py",
   "mimetype": "text/x-python",
   "name": "python",
   "nbconvert_exporter": "python",
   "pygments_lexer": "ipython3",
   "version": "3.13.3"
  }
 },
 "nbformat": 4,
 "nbformat_minor": 2
}
