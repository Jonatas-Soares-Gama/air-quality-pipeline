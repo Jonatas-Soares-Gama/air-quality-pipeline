{
 "cells": [
  {
   "cell_type": "code",
   "execution_count": 18,
   "metadata": {},
   "outputs": [],
   "source": [
    "import pandas as pd\n",
    "import numpy as np\n",
    "import os"
   ]
  },
  {
   "cell_type": "code",
   "execution_count": 19,
   "metadata": {},
   "outputs": [],
   "source": [
    "sensors_by_country_path = '/Users/jonatasgama/Desktop/air_quality_pipeline/data/raw/sensors_by_countries.csv'\n",
    "csv_sensors_by_countries = pd.read_csv(sensors_by_country_path)\n",
    "\n",
    "values_by_sensor_path = '/Users/jonatasgama/Desktop/air_quality_pipeline/data/raw/values_by_sensor.csv'\n",
    "csv_values_by_sensor = pd.read_csv(values_by_sensor_path)\n"
   ]
  },
  {
   "cell_type": "code",
   "execution_count": 25,
   "metadata": {},
   "outputs": [
    {
     "data": {
      "text/plain": [
       "Index(['country;sensor_id;sensor_name'], dtype='object')"
      ]
     },
     "execution_count": 25,
     "metadata": {},
     "output_type": "execute_result"
    }
   ],
   "source": [
    "csv_sensors_by_countries.head()\n",
    "csv_sensors_by_countries.columns"
   ]
  },
  {
   "cell_type": "code",
   "execution_count": 24,
   "metadata": {},
   "outputs": [
    {
     "data": {
      "text/plain": [
       "Index(['sensor_id;parameter_id;parameter_name;value;units;date'], dtype='object')"
      ]
     },
     "execution_count": 24,
     "metadata": {},
     "output_type": "execute_result"
    }
   ],
   "source": [
    "csv_values_by_sensor.head()\n",
    "csv_values_by_sensor.columns"
   ]
  }
 ],
 "metadata": {
  "kernelspec": {
   "display_name": ".venv",
   "language": "python",
   "name": "python3"
  },
  "language_info": {
   "codemirror_mode": {
    "name": "ipython",
    "version": 3
   },
   "file_extension": ".py",
   "mimetype": "text/x-python",
   "name": "python",
   "nbconvert_exporter": "python",
   "pygments_lexer": "ipython3",
   "version": "3.13.3"
  }
 },
 "nbformat": 4,
 "nbformat_minor": 2
}
